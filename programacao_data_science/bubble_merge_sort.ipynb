{
 "cells": [
  {
   "cell_type": "markdown",
   "metadata": {},
   "source": [
    "Classificação - Implemente dois tipos de algoritmos de ordenação: Merge sort e bubble sort (tente um Google)."
   ]
  },
  {
   "cell_type": "code",
   "execution_count": 11,
   "metadata": {},
   "outputs": [],
   "source": [
    "def bubble_sort(lista_numeros):\n",
    "    tamanho_lista = len(lista_numeros)-1\n",
    "    ordenado = False\n",
    "    while not ordenado:\n",
    "        ordenado = True\n",
    "        for i in range(tamanho_lista):\n",
    "            if lista_numeros[i] > lista_numeros[i+1]:\n",
    "                lista_numeros[i], lista_numeros[i+1] = lista_numeros[i+1],lista_numeros[i]\n",
    "                ordenado = False        \n",
    "    return lista_numeros"
   ]
  },
  {
   "cell_type": "code",
   "execution_count": 12,
   "metadata": {},
   "outputs": [
    {
     "name": "stdout",
     "output_type": "stream",
     "text": [
      "[1, 2, 6, 8, 10, 18, 20, 21, 25, 30, 32, 35, 50]\n"
     ]
    }
   ],
   "source": [
    "lista_numeros = [50,30,21,18,10,1,25,35,32,2,6,8,20]\n",
    "\n",
    "print(bubble_sort(lista_numeros))"
   ]
  },
  {
   "cell_type": "code",
   "execution_count": 13,
   "metadata": {},
   "outputs": [],
   "source": [
    "def merge_sort(lista_numeros):\n",
    "\n",
    "    if len(lista_numeros)>1:\n",
    "        mid = len(lista_numeros)//2\n",
    "        esquerda = lista_numeros[:mid]\n",
    "        direita = lista_numeros[mid:]\n",
    "\n",
    "        merge_sort(esquerda)\n",
    "        merge_sort(direita)\n",
    "\n",
    "        i=0\n",
    "        j=0\n",
    "        k=0\n",
    "        while i < len(esquerda) and j < len(direita):\n",
    "            if esquerda[i] < direita[j]:\n",
    "                lista_numeros[k]=esquerda[i]\n",
    "                i=i+1\n",
    "            else:\n",
    "                lista_numeros[k]=direita[j]\n",
    "                j=j+1\n",
    "            k=k+1\n",
    "\n",
    "        while i < len(esquerda):\n",
    "            lista_numeros[k]=esquerda[i]\n",
    "            i=i+1\n",
    "            k=k+1\n",
    "\n",
    "        while j < len(direita):\n",
    "            lista_numeros[k]=direita[j]\n",
    "            j=j+1\n",
    "            k=k+1\n"
   ]
  },
  {
   "cell_type": "code",
   "execution_count": 14,
   "metadata": {},
   "outputs": [],
   "source": [
    "lista_numeros = [50,30,21,18,10,1,25,35,32,2,6,8,20]\n"
   ]
  },
  {
   "cell_type": "code",
   "execution_count": 15,
   "metadata": {},
   "outputs": [],
   "source": [
    "merge_sort(lista_numeros)\n"
   ]
  },
  {
   "cell_type": "code",
   "execution_count": 16,
   "metadata": {},
   "outputs": [
    {
     "name": "stdout",
     "output_type": "stream",
     "text": [
      "[1, 2, 6, 8, 10, 18, 20, 21, 25, 30, 32, 35, 50]\n"
     ]
    }
   ],
   "source": [
    "print(lista_numeros)"
   ]
  },
  {
   "cell_type": "code",
   "execution_count": null,
   "metadata": {},
   "outputs": [],
   "source": []
  }
 ],
 "metadata": {
  "kernelspec": {
   "display_name": "Python 3",
   "language": "python",
   "name": "python3"
  },
  "language_info": {
   "codemirror_mode": {
    "name": "ipython",
    "version": 3
   },
   "file_extension": ".py",
   "mimetype": "text/x-python",
   "name": "python",
   "nbconvert_exporter": "python",
   "pygments_lexer": "ipython3",
   "version": "3.6.5"
  }
 },
 "nbformat": 4,
 "nbformat_minor": 2
}
