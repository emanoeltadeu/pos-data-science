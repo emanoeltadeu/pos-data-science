{
 "cells": [
  {
   "cell_type": "markdown",
   "metadata": {},
   "source": [
    "## Contar palavras em uma String\n",
    "\n",
    "* Conta o número de palavras individuais em uma string. \n",
    "* Para maior complexidade, leia essas sequências a partir de um arquivo de texto e gere um resumo."
   ]
  },
  {
   "cell_type": "code",
   "execution_count": 253,
   "metadata": {},
   "outputs": [],
   "source": [
    "import pandas as pd"
   ]
  },
  {
   "cell_type": "code",
   "execution_count": 267,
   "metadata": {},
   "outputs": [],
   "source": [
    "arquivo_texto = open('arquivotexto.txt', 'r')"
   ]
  },
  {
   "cell_type": "code",
   "execution_count": 268,
   "metadata": {},
   "outputs": [],
   "source": [
    "map_palavras = {}"
   ]
  },
  {
   "cell_type": "code",
   "execution_count": 269,
   "metadata": {},
   "outputs": [],
   "source": [
    "for linha in arquivo_texto:\n",
    "    palavras = linha.split() #lendo cada palavra de cada linha do arquivo\n",
    "    for palavra in palavras:\n",
    "        palavra = palavra.lower()\n",
    "        palavra = palavra.replace(',','')\n",
    "        if palavra in map_palavras: #se já existir mapeamento, acrescenta 1 a contagem\n",
    "            map_palavras[palavra] = map_palavras[palavra] + 1\n",
    "        else:\n",
    "            map_palavras[palavra] = 1 #acrescenta a palavra ao mapeamento"
   ]
  },
  {
   "cell_type": "code",
   "execution_count": 270,
   "metadata": {},
   "outputs": [],
   "source": [
    "#ordena pelo numero de ocorrencia de cada palavra\n",
    "palavras_order_ocorrencia = sorted(map_palavras, key=map_palavras.get, reverse=True)"
   ]
  },
  {
   "cell_type": "code",
   "execution_count": 271,
   "metadata": {},
   "outputs": [
    {
     "name": "stdout",
     "output_type": "stream",
     "text": [
      "o 3\n",
      "de 2\n",
      "e 2\n",
      "instituicao 2\n",
      "no 2\n",
      "centro 1\n",
      "universitario 1\n",
      "7 1\n",
      "setembro 1\n",
      "- 1\n",
      "uni7 1\n",
      "uma 1\n",
      "ensino 1\n",
      "superior 1\n",
      "particular 1\n",
      "localizada 1\n",
      "em 1\n",
      "fortaleza 1\n",
      "ceara. 1\n",
      "possui 1\n",
      "dois 1\n",
      "campi. 1\n",
      "campus 1\n",
      "sul 1\n",
      "fica 1\n",
      "bairro 1\n",
      "luciano 1\n",
      "cavalcante 1\n",
      "concentra 1\n",
      "quase 1\n",
      "todas 1\n",
      "as 1\n",
      "atividades 1\n",
      "da 1\n",
      "por 1\n",
      "ser 1\n",
      "primeiro 1\n",
      "predio. 1\n"
     ]
    }
   ],
   "source": [
    "#imprime cada palavra do texto, iniciando a partir da maior ocorrencia\n",
    "for palavra in palavras_order_ocorrencia:\n",
    "    print (palavra, map_palavras[palavra])"
   ]
  },
  {
   "cell_type": "code",
   "execution_count": null,
   "metadata": {},
   "outputs": [],
   "source": []
  },
  {
   "cell_type": "code",
   "execution_count": null,
   "metadata": {},
   "outputs": [],
   "source": []
  }
 ],
 "metadata": {
  "kernelspec": {
   "display_name": "Python 3",
   "language": "python",
   "name": "python3"
  },
  "language_info": {
   "codemirror_mode": {
    "name": "ipython",
    "version": 3
   },
   "file_extension": ".py",
   "mimetype": "text/x-python",
   "name": "python",
   "nbconvert_exporter": "python",
   "pygments_lexer": "ipython3",
   "version": "3.6.5"
  }
 },
 "nbformat": 4,
 "nbformat_minor": 2
}
